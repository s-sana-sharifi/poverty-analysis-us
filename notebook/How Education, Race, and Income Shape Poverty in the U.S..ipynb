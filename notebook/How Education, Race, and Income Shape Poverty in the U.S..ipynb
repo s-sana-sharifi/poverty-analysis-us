{
 "cells": [
  {
   "cell_type": "markdown",
   "id": "0714d87b-1339-4939-b37e-5ab4cf3a2027",
   "metadata": {},
   "source": [
    "# How Education, Race, and Income Shape Poverty in the U.S. – A 2015 Multivariate Analysis\n",
    "### Exploring correlations across education levels, racial composition, income and poverty rates in 50 U.S. states.\n",
    "## Introduction\n",
    "\n",
    "Poverty in the United States is a complex and multifaceted issue influenced by various social, economic, and demographic factors. Understanding how different elements — such as educational attainment, racial composition, and income — relate to poverty can offer valuable insights for policymakers, educators, and researchers.\n",
    "\n",
    "In this project, we conduct a multivariate analysis using state-level data from 2015 to explore:\n",
    "- The relationship between education levels and poverty rates\n",
    "- The effect of racial composition on socioeconomic indicators\n",
    "- The connection between educational attainment and median household income\n",
    "\n",
    "By examining these dimensions together, we aim to reveal patterns that may contribute to persistent inequality and to highlight areas where intervention could be most effective."
   ]
  },
  {
   "cell_type": "markdown",
   "id": "8fb1fbbd-9c10-4e6f-b9cd-c36a5e0f93e9",
   "metadata": {},
   "source": [
    "### Dataset Sources\n",
    "All datasets used in this project were originally obtained from the following Kaggle notebook:  \n",
    "[Seaborn Tutorial for Beginners by kanncaa1](https://www.kaggle.com/code/kanncaa1/seaborn-tutorial-for-beginners)\n",
    "\n",
    "We acknowledge the original author and Kaggle as the source of raw data."
   ]
  },
  {
   "cell_type": "markdown",
   "id": "d87f3093-0cd0-4474-8612-4cebff9fd322",
   "metadata": {},
   "source": [
    "## Data Cleaning"
   ]
  },
  {
   "cell_type": "code",
   "execution_count": 1,
   "id": "27cdb5a3-e178-440f-afca-528e462d1797",
   "metadata": {},
   "outputs": [],
   "source": [
    "import numpy as np\n",
    "import pandas as pd\n",
    "import matplotlib.pyplot as plt\n",
    "import seaborn as sns\n",
    "import os\n",
    "os.makedirs(\"data\", exist_ok=True)"
   ]
  },
  {
   "cell_type": "code",
   "execution_count": 2,
   "id": "e8b072c0-0984-4895-bd37-3f34fce4b473",
   "metadata": {},
   "outputs": [],
   "source": [
    "poverty = pd.read_csv(r\"C:\\Users\\RK\\Downloads\\PercentagePeopleBelowPovertyLevel.csv\", encoding='latin1')\n",
    "hs = pd.read_csv(r\"C:\\Users\\RK\\Downloads\\PercentOver25CompletedHighSchool.csv\", encoding='latin1')\n",
    "race = pd.read_csv(r\"C:\\Users\\RK\\Downloads\\ShareRaceByCity.csv\\ShareRaceByCity.csv\", encoding='latin1')\n",
    "income = pd.read_csv(r\"C:\\Users\\RK\\Downloads\\MedianHouseholdIncome2015.csv\", encoding='latin1')"
   ]
  },
  {
   "cell_type": "code",
   "execution_count": 3,
   "id": "25d2a471-32b9-4253-bc56-d30e8fa7359d",
   "metadata": {},
   "outputs": [
    {
     "data": {
      "text/html": [
       "<div>\n",
       "<style scoped>\n",
       "    .dataframe tbody tr th:only-of-type {\n",
       "        vertical-align: middle;\n",
       "    }\n",
       "\n",
       "    .dataframe tbody tr th {\n",
       "        vertical-align: top;\n",
       "    }\n",
       "\n",
       "    .dataframe thead th {\n",
       "        text-align: right;\n",
       "    }\n",
       "</style>\n",
       "<table border=\"1\" class=\"dataframe\">\n",
       "  <thead>\n",
       "    <tr style=\"text-align: right;\">\n",
       "      <th></th>\n",
       "      <th>Geographic Area</th>\n",
       "      <th>City</th>\n",
       "      <th>poverty_rate</th>\n",
       "    </tr>\n",
       "  </thead>\n",
       "  <tbody>\n",
       "    <tr>\n",
       "      <th>0</th>\n",
       "      <td>AL</td>\n",
       "      <td>Abanda CDP</td>\n",
       "      <td>78.8</td>\n",
       "    </tr>\n",
       "    <tr>\n",
       "      <th>1</th>\n",
       "      <td>AL</td>\n",
       "      <td>Abbeville city</td>\n",
       "      <td>29.1</td>\n",
       "    </tr>\n",
       "    <tr>\n",
       "      <th>2</th>\n",
       "      <td>AL</td>\n",
       "      <td>Adamsville city</td>\n",
       "      <td>25.5</td>\n",
       "    </tr>\n",
       "    <tr>\n",
       "      <th>3</th>\n",
       "      <td>AL</td>\n",
       "      <td>Addison town</td>\n",
       "      <td>30.7</td>\n",
       "    </tr>\n",
       "    <tr>\n",
       "      <th>4</th>\n",
       "      <td>AL</td>\n",
       "      <td>Akron town</td>\n",
       "      <td>42</td>\n",
       "    </tr>\n",
       "  </tbody>\n",
       "</table>\n",
       "</div>"
      ],
      "text/plain": [
       "  Geographic Area             City poverty_rate\n",
       "0              AL       Abanda CDP         78.8\n",
       "1              AL   Abbeville city         29.1\n",
       "2              AL  Adamsville city         25.5\n",
       "3              AL     Addison town         30.7\n",
       "4              AL       Akron town           42"
      ]
     },
     "execution_count": 3,
     "metadata": {},
     "output_type": "execute_result"
    }
   ],
   "source": [
    "poverty.head()"
   ]
  },
  {
   "cell_type": "code",
   "execution_count": 4,
   "id": "d02cf660-5851-40ab-88cd-0bc78315a039",
   "metadata": {},
   "outputs": [
    {
     "name": "stdout",
     "output_type": "stream",
     "text": [
      "<class 'pandas.core.frame.DataFrame'>\n",
      "RangeIndex: 29329 entries, 0 to 29328\n",
      "Data columns (total 3 columns):\n",
      " #   Column           Non-Null Count  Dtype \n",
      "---  ------           --------------  ----- \n",
      " 0   Geographic Area  29329 non-null  object\n",
      " 1   City             29329 non-null  object\n",
      " 2   poverty_rate     29329 non-null  object\n",
      "dtypes: object(3)\n",
      "memory usage: 687.5+ KB\n"
     ]
    }
   ],
   "source": [
    "poverty.info()"
   ]
  },
  {
   "cell_type": "code",
   "execution_count": 5,
   "id": "2ffe109f-8eba-4c30-bfd9-dceca4bbaf3c",
   "metadata": {},
   "outputs": [],
   "source": [
    "poverty.poverty_rate = poverty.poverty_rate.replace(['-'],0.0)\n",
    "poverty.poverty_rate = poverty.poverty_rate.astype(float)"
   ]
  },
  {
   "cell_type": "code",
   "execution_count": 6,
   "id": "fdf6808a-8fd0-4ade-a8c2-e3805a467259",
   "metadata": {},
   "outputs": [
    {
     "data": {
      "text/html": [
       "<div>\n",
       "<style scoped>\n",
       "    .dataframe tbody tr th:only-of-type {\n",
       "        vertical-align: middle;\n",
       "    }\n",
       "\n",
       "    .dataframe tbody tr th {\n",
       "        vertical-align: top;\n",
       "    }\n",
       "\n",
       "    .dataframe thead th {\n",
       "        text-align: right;\n",
       "    }\n",
       "</style>\n",
       "<table border=\"1\" class=\"dataframe\">\n",
       "  <thead>\n",
       "    <tr style=\"text-align: right;\">\n",
       "      <th></th>\n",
       "      <th>State</th>\n",
       "      <th>poverty_rate</th>\n",
       "    </tr>\n",
       "  </thead>\n",
       "  <tbody>\n",
       "    <tr>\n",
       "      <th>0</th>\n",
       "      <td>MS</td>\n",
       "      <td>26.884254</td>\n",
       "    </tr>\n",
       "    <tr>\n",
       "      <th>1</th>\n",
       "      <td>AZ</td>\n",
       "      <td>25.268071</td>\n",
       "    </tr>\n",
       "    <tr>\n",
       "      <th>2</th>\n",
       "      <td>GA</td>\n",
       "      <td>23.663636</td>\n",
       "    </tr>\n",
       "    <tr>\n",
       "      <th>3</th>\n",
       "      <td>AR</td>\n",
       "      <td>22.963216</td>\n",
       "    </tr>\n",
       "    <tr>\n",
       "      <th>4</th>\n",
       "      <td>NM</td>\n",
       "      <td>22.507675</td>\n",
       "    </tr>\n",
       "  </tbody>\n",
       "</table>\n",
       "</div>"
      ],
      "text/plain": [
       "  State  poverty_rate\n",
       "0    MS     26.884254\n",
       "1    AZ     25.268071\n",
       "2    GA     23.663636\n",
       "3    AR     22.963216\n",
       "4    NM     22.507675"
      ]
     },
     "execution_count": 6,
     "metadata": {},
     "output_type": "execute_result"
    }
   ],
   "source": [
    "poverty = (poverty.groupby('Geographic Area').poverty_rate\n",
    "    .mean()\n",
    "    .sort_values(ascending=False)\n",
    "    .reset_index()\n",
    "    .rename(columns={'Geographic Area' : 'State'}))\n",
    "poverty.head()"
   ]
  },
  {
   "cell_type": "code",
   "execution_count": 7,
   "id": "7d6f3b55-cac0-4942-86b7-f2ef736da17a",
   "metadata": {},
   "outputs": [
    {
     "data": {
      "text/html": [
       "<div>\n",
       "<style scoped>\n",
       "    .dataframe tbody tr th:only-of-type {\n",
       "        vertical-align: middle;\n",
       "    }\n",
       "\n",
       "    .dataframe tbody tr th {\n",
       "        vertical-align: top;\n",
       "    }\n",
       "\n",
       "    .dataframe thead th {\n",
       "        text-align: right;\n",
       "    }\n",
       "</style>\n",
       "<table border=\"1\" class=\"dataframe\">\n",
       "  <thead>\n",
       "    <tr style=\"text-align: right;\">\n",
       "      <th></th>\n",
       "      <th>State</th>\n",
       "      <th>poverty_rate</th>\n",
       "    </tr>\n",
       "  </thead>\n",
       "  <tbody>\n",
       "    <tr>\n",
       "      <th>46</th>\n",
       "      <td>MD</td>\n",
       "      <td>10.272394</td>\n",
       "    </tr>\n",
       "    <tr>\n",
       "      <th>47</th>\n",
       "      <td>MA</td>\n",
       "      <td>9.546341</td>\n",
       "    </tr>\n",
       "    <tr>\n",
       "      <th>48</th>\n",
       "      <td>CT</td>\n",
       "      <td>9.137500</td>\n",
       "    </tr>\n",
       "    <tr>\n",
       "      <th>49</th>\n",
       "      <td>WY</td>\n",
       "      <td>9.063725</td>\n",
       "    </tr>\n",
       "    <tr>\n",
       "      <th>50</th>\n",
       "      <td>NJ</td>\n",
       "      <td>8.160917</td>\n",
       "    </tr>\n",
       "  </tbody>\n",
       "</table>\n",
       "</div>"
      ],
      "text/plain": [
       "   State  poverty_rate\n",
       "46    MD     10.272394\n",
       "47    MA      9.546341\n",
       "48    CT      9.137500\n",
       "49    WY      9.063725\n",
       "50    NJ      8.160917"
      ]
     },
     "execution_count": 7,
     "metadata": {},
     "output_type": "execute_result"
    }
   ],
   "source": [
    "poverty.tail()"
   ]
  },
  {
   "cell_type": "code",
   "execution_count": 8,
   "id": "f520ae36-9573-4907-b7be-6bedb4b0dc7d",
   "metadata": {},
   "outputs": [],
   "source": [
    "poverty.to_csv(\"data/cleaned_poverty.csv\", index=False)\n"
   ]
  },
  {
   "cell_type": "code",
   "execution_count": 9,
   "id": "81dcc1bb-f21d-4a1e-9645-eac57e762849",
   "metadata": {},
   "outputs": [
    {
     "data": {
      "text/html": [
       "<div>\n",
       "<style scoped>\n",
       "    .dataframe tbody tr th:only-of-type {\n",
       "        vertical-align: middle;\n",
       "    }\n",
       "\n",
       "    .dataframe tbody tr th {\n",
       "        vertical-align: top;\n",
       "    }\n",
       "\n",
       "    .dataframe thead th {\n",
       "        text-align: right;\n",
       "    }\n",
       "</style>\n",
       "<table border=\"1\" class=\"dataframe\">\n",
       "  <thead>\n",
       "    <tr style=\"text-align: right;\">\n",
       "      <th></th>\n",
       "      <th>Geographic Area</th>\n",
       "      <th>City</th>\n",
       "      <th>percent_completed_hs</th>\n",
       "    </tr>\n",
       "  </thead>\n",
       "  <tbody>\n",
       "    <tr>\n",
       "      <th>0</th>\n",
       "      <td>AL</td>\n",
       "      <td>Abanda CDP</td>\n",
       "      <td>21.2</td>\n",
       "    </tr>\n",
       "    <tr>\n",
       "      <th>1</th>\n",
       "      <td>AL</td>\n",
       "      <td>Abbeville city</td>\n",
       "      <td>69.1</td>\n",
       "    </tr>\n",
       "    <tr>\n",
       "      <th>2</th>\n",
       "      <td>AL</td>\n",
       "      <td>Adamsville city</td>\n",
       "      <td>78.9</td>\n",
       "    </tr>\n",
       "    <tr>\n",
       "      <th>3</th>\n",
       "      <td>AL</td>\n",
       "      <td>Addison town</td>\n",
       "      <td>81.4</td>\n",
       "    </tr>\n",
       "    <tr>\n",
       "      <th>4</th>\n",
       "      <td>AL</td>\n",
       "      <td>Akron town</td>\n",
       "      <td>68.6</td>\n",
       "    </tr>\n",
       "  </tbody>\n",
       "</table>\n",
       "</div>"
      ],
      "text/plain": [
       "  Geographic Area             City percent_completed_hs\n",
       "0              AL       Abanda CDP                 21.2\n",
       "1              AL   Abbeville city                 69.1\n",
       "2              AL  Adamsville city                 78.9\n",
       "3              AL     Addison town                 81.4\n",
       "4              AL       Akron town                 68.6"
      ]
     },
     "execution_count": 9,
     "metadata": {},
     "output_type": "execute_result"
    }
   ],
   "source": [
    "hs.head()"
   ]
  },
  {
   "cell_type": "code",
   "execution_count": 10,
   "id": "9f19eb96-71da-4e6b-a51a-673a10c33324",
   "metadata": {},
   "outputs": [
    {
     "name": "stdout",
     "output_type": "stream",
     "text": [
      "<class 'pandas.core.frame.DataFrame'>\n",
      "RangeIndex: 29329 entries, 0 to 29328\n",
      "Data columns (total 3 columns):\n",
      " #   Column                Non-Null Count  Dtype \n",
      "---  ------                --------------  ----- \n",
      " 0   Geographic Area       29329 non-null  object\n",
      " 1   City                  29329 non-null  object\n",
      " 2   percent_completed_hs  29329 non-null  object\n",
      "dtypes: object(3)\n",
      "memory usage: 687.5+ KB\n"
     ]
    }
   ],
   "source": [
    "hs.info()"
   ]
  },
  {
   "cell_type": "code",
   "execution_count": 11,
   "id": "deb844fb-07cf-499f-ba4f-c8e7a4c74098",
   "metadata": {},
   "outputs": [
    {
     "data": {
      "text/plain": [
       "percent_completed_hs\n",
       "100     1301\n",
       "-        197\n",
       "91.7     170\n",
       "92.9     169\n",
       "92.5     168\n",
       "        ... \n",
       "42.8       1\n",
       "4.5        1\n",
       "33.1       1\n",
       "15.4       1\n",
       "43.9       1\n",
       "Name: count, Length: 728, dtype: int64"
      ]
     },
     "execution_count": 11,
     "metadata": {},
     "output_type": "execute_result"
    }
   ],
   "source": [
    "hs.percent_completed_hs.value_counts()"
   ]
  },
  {
   "cell_type": "code",
   "execution_count": 12,
   "id": "a70bf8f3-c793-41a7-8d8d-b93561b45a31",
   "metadata": {},
   "outputs": [],
   "source": [
    "hs.percent_completed_hs = hs.percent_completed_hs.replace(['-'], 0.0)\n",
    "hs.percent_completed_hs = hs.percent_completed_hs.astype(float)"
   ]
  },
  {
   "cell_type": "code",
   "execution_count": 13,
   "id": "86968629-24af-4fb5-a44d-bf5627dfba13",
   "metadata": {},
   "outputs": [
    {
     "name": "stdout",
     "output_type": "stream",
     "text": [
      "<class 'pandas.core.frame.DataFrame'>\n",
      "RangeIndex: 29329 entries, 0 to 29328\n",
      "Data columns (total 3 columns):\n",
      " #   Column                Non-Null Count  Dtype  \n",
      "---  ------                --------------  -----  \n",
      " 0   Geographic Area       29329 non-null  object \n",
      " 1   City                  29329 non-null  object \n",
      " 2   percent_completed_hs  29329 non-null  float64\n",
      "dtypes: float64(1), object(2)\n",
      "memory usage: 687.5+ KB\n"
     ]
    }
   ],
   "source": [
    "hs.info()"
   ]
  },
  {
   "cell_type": "code",
   "execution_count": 14,
   "id": "b25ba765-4c37-48bd-a14d-c8fabed68561",
   "metadata": {},
   "outputs": [],
   "source": [
    "hs = (hs.groupby('Geographic Area').percent_completed_hs\n",
    "      .mean()\n",
    "      .sort_values(ascending=False)\n",
    "      .reset_index()\n",
    "      .rename(columns={'Geographic Area' : 'State'}))"
   ]
  },
  {
   "cell_type": "code",
   "execution_count": 15,
   "id": "25cbba99-ad6e-4a7f-83b6-c19fad463a07",
   "metadata": {},
   "outputs": [
    {
     "data": {
      "text/html": [
       "<div>\n",
       "<style scoped>\n",
       "    .dataframe tbody tr th:only-of-type {\n",
       "        vertical-align: middle;\n",
       "    }\n",
       "\n",
       "    .dataframe tbody tr th {\n",
       "        vertical-align: top;\n",
       "    }\n",
       "\n",
       "    .dataframe thead th {\n",
       "        text-align: right;\n",
       "    }\n",
       "</style>\n",
       "<table border=\"1\" class=\"dataframe\">\n",
       "  <thead>\n",
       "    <tr style=\"text-align: right;\">\n",
       "      <th></th>\n",
       "      <th>State</th>\n",
       "      <th>percent_completed_hs</th>\n",
       "    </tr>\n",
       "  </thead>\n",
       "  <tbody>\n",
       "    <tr>\n",
       "      <th>0</th>\n",
       "      <td>MA</td>\n",
       "      <td>92.028455</td>\n",
       "    </tr>\n",
       "    <tr>\n",
       "      <th>1</th>\n",
       "      <td>HI</td>\n",
       "      <td>91.665563</td>\n",
       "    </tr>\n",
       "    <tr>\n",
       "      <th>2</th>\n",
       "      <td>CT</td>\n",
       "      <td>91.591667</td>\n",
       "    </tr>\n",
       "    <tr>\n",
       "      <th>3</th>\n",
       "      <td>ME</td>\n",
       "      <td>91.430769</td>\n",
       "    </tr>\n",
       "    <tr>\n",
       "      <th>4</th>\n",
       "      <td>NH</td>\n",
       "      <td>90.711340</td>\n",
       "    </tr>\n",
       "  </tbody>\n",
       "</table>\n",
       "</div>"
      ],
      "text/plain": [
       "  State  percent_completed_hs\n",
       "0    MA             92.028455\n",
       "1    HI             91.665563\n",
       "2    CT             91.591667\n",
       "3    ME             91.430769\n",
       "4    NH             90.711340"
      ]
     },
     "execution_count": 15,
     "metadata": {},
     "output_type": "execute_result"
    }
   ],
   "source": [
    "hs.head()"
   ]
  },
  {
   "cell_type": "code",
   "execution_count": 16,
   "id": "a7e7459f-8abe-486b-88c4-4304ca5af8ac",
   "metadata": {},
   "outputs": [
    {
     "data": {
      "text/html": [
       "<div>\n",
       "<style scoped>\n",
       "    .dataframe tbody tr th:only-of-type {\n",
       "        vertical-align: middle;\n",
       "    }\n",
       "\n",
       "    .dataframe tbody tr th {\n",
       "        vertical-align: top;\n",
       "    }\n",
       "\n",
       "    .dataframe thead th {\n",
       "        text-align: right;\n",
       "    }\n",
       "</style>\n",
       "<table border=\"1\" class=\"dataframe\">\n",
       "  <thead>\n",
       "    <tr style=\"text-align: right;\">\n",
       "      <th></th>\n",
       "      <th>State</th>\n",
       "      <th>percent_completed_hs</th>\n",
       "    </tr>\n",
       "  </thead>\n",
       "  <tbody>\n",
       "    <tr>\n",
       "      <th>46</th>\n",
       "      <td>LA</td>\n",
       "      <td>79.122363</td>\n",
       "    </tr>\n",
       "    <tr>\n",
       "      <th>47</th>\n",
       "      <td>NM</td>\n",
       "      <td>78.971783</td>\n",
       "    </tr>\n",
       "    <tr>\n",
       "      <th>48</th>\n",
       "      <td>GA</td>\n",
       "      <td>78.634450</td>\n",
       "    </tr>\n",
       "    <tr>\n",
       "      <th>49</th>\n",
       "      <td>MS</td>\n",
       "      <td>78.470718</td>\n",
       "    </tr>\n",
       "    <tr>\n",
       "      <th>50</th>\n",
       "      <td>TX</td>\n",
       "      <td>74.086949</td>\n",
       "    </tr>\n",
       "  </tbody>\n",
       "</table>\n",
       "</div>"
      ],
      "text/plain": [
       "   State  percent_completed_hs\n",
       "46    LA             79.122363\n",
       "47    NM             78.971783\n",
       "48    GA             78.634450\n",
       "49    MS             78.470718\n",
       "50    TX             74.086949"
      ]
     },
     "execution_count": 16,
     "metadata": {},
     "output_type": "execute_result"
    }
   ],
   "source": [
    "hs.tail()"
   ]
  },
  {
   "cell_type": "code",
   "execution_count": 17,
   "id": "4dbc905a-9b4b-47f1-9ca9-b8a40b3a66ea",
   "metadata": {},
   "outputs": [],
   "source": [
    "hs.to_csv(\"data/cleaned_hs.csv\", index=False)\n"
   ]
  },
  {
   "cell_type": "code",
   "execution_count": 18,
   "id": "f0614c40-0e46-4b71-a580-7c5a57099eb4",
   "metadata": {},
   "outputs": [
    {
     "data": {
      "text/html": [
       "<div>\n",
       "<style scoped>\n",
       "    .dataframe tbody tr th:only-of-type {\n",
       "        vertical-align: middle;\n",
       "    }\n",
       "\n",
       "    .dataframe tbody tr th {\n",
       "        vertical-align: top;\n",
       "    }\n",
       "\n",
       "    .dataframe thead th {\n",
       "        text-align: right;\n",
       "    }\n",
       "</style>\n",
       "<table border=\"1\" class=\"dataframe\">\n",
       "  <thead>\n",
       "    <tr style=\"text-align: right;\">\n",
       "      <th></th>\n",
       "      <th>Geographic area</th>\n",
       "      <th>City</th>\n",
       "      <th>share_white</th>\n",
       "      <th>share_black</th>\n",
       "      <th>share_native_american</th>\n",
       "      <th>share_asian</th>\n",
       "      <th>share_hispanic</th>\n",
       "    </tr>\n",
       "  </thead>\n",
       "  <tbody>\n",
       "    <tr>\n",
       "      <th>0</th>\n",
       "      <td>AL</td>\n",
       "      <td>Abanda CDP</td>\n",
       "      <td>67.2</td>\n",
       "      <td>30.2</td>\n",
       "      <td>0</td>\n",
       "      <td>0</td>\n",
       "      <td>1.6</td>\n",
       "    </tr>\n",
       "    <tr>\n",
       "      <th>1</th>\n",
       "      <td>AL</td>\n",
       "      <td>Abbeville city</td>\n",
       "      <td>54.4</td>\n",
       "      <td>41.4</td>\n",
       "      <td>0.1</td>\n",
       "      <td>1</td>\n",
       "      <td>3.1</td>\n",
       "    </tr>\n",
       "    <tr>\n",
       "      <th>2</th>\n",
       "      <td>AL</td>\n",
       "      <td>Adamsville city</td>\n",
       "      <td>52.3</td>\n",
       "      <td>44.9</td>\n",
       "      <td>0.5</td>\n",
       "      <td>0.3</td>\n",
       "      <td>2.3</td>\n",
       "    </tr>\n",
       "    <tr>\n",
       "      <th>3</th>\n",
       "      <td>AL</td>\n",
       "      <td>Addison town</td>\n",
       "      <td>99.1</td>\n",
       "      <td>0.1</td>\n",
       "      <td>0</td>\n",
       "      <td>0.1</td>\n",
       "      <td>0.4</td>\n",
       "    </tr>\n",
       "    <tr>\n",
       "      <th>4</th>\n",
       "      <td>AL</td>\n",
       "      <td>Akron town</td>\n",
       "      <td>13.2</td>\n",
       "      <td>86.5</td>\n",
       "      <td>0</td>\n",
       "      <td>0</td>\n",
       "      <td>0.3</td>\n",
       "    </tr>\n",
       "  </tbody>\n",
       "</table>\n",
       "</div>"
      ],
      "text/plain": [
       "  Geographic area             City share_white share_black  \\\n",
       "0              AL       Abanda CDP        67.2        30.2   \n",
       "1              AL   Abbeville city        54.4        41.4   \n",
       "2              AL  Adamsville city        52.3        44.9   \n",
       "3              AL     Addison town        99.1         0.1   \n",
       "4              AL       Akron town        13.2        86.5   \n",
       "\n",
       "  share_native_american share_asian share_hispanic  \n",
       "0                     0           0            1.6  \n",
       "1                   0.1           1            3.1  \n",
       "2                   0.5         0.3            2.3  \n",
       "3                     0         0.1            0.4  \n",
       "4                     0           0            0.3  "
      ]
     },
     "execution_count": 18,
     "metadata": {},
     "output_type": "execute_result"
    }
   ],
   "source": [
    "race.head()"
   ]
  },
  {
   "cell_type": "code",
   "execution_count": 19,
   "id": "cec1d51d-d6b2-408f-b9f7-30d08db9d009",
   "metadata": {},
   "outputs": [
    {
     "name": "stdout",
     "output_type": "stream",
     "text": [
      "<class 'pandas.core.frame.DataFrame'>\n",
      "RangeIndex: 29268 entries, 0 to 29267\n",
      "Data columns (total 7 columns):\n",
      " #   Column                 Non-Null Count  Dtype \n",
      "---  ------                 --------------  ----- \n",
      " 0   Geographic area        29268 non-null  object\n",
      " 1   City                   29268 non-null  object\n",
      " 2   share_white            29268 non-null  object\n",
      " 3   share_black            29268 non-null  object\n",
      " 4   share_native_american  29268 non-null  object\n",
      " 5   share_asian            29268 non-null  object\n",
      " 6   share_hispanic         29268 non-null  object\n",
      "dtypes: object(7)\n",
      "memory usage: 1.6+ MB\n"
     ]
    }
   ],
   "source": [
    "race.info()"
   ]
  },
  {
   "cell_type": "code",
   "execution_count": 20,
   "id": "6882f217-2445-4619-a9ab-b0b8108176dc",
   "metadata": {},
   "outputs": [
    {
     "data": {
      "text/plain": [
       "share_hispanic\n",
       "0       2489\n",
       "1        584\n",
       "0.9      579\n",
       "1.4      578\n",
       "1.1      569\n",
       "        ... \n",
       "81.7       1\n",
       "81.3       1\n",
       "51.3       1\n",
       "75.3       1\n",
       "37.2       1\n",
       "Name: count, Length: 956, dtype: int64"
      ]
     },
     "execution_count": 20,
     "metadata": {},
     "output_type": "execute_result"
    }
   ],
   "source": [
    "race.share_white.value_counts()\n",
    "race.share_black.value_counts()\n",
    "race.share_native_american.value_counts()\n",
    "race.share_asian.value_counts()\n",
    "race.share_hispanic.value_counts()"
   ]
  },
  {
   "cell_type": "code",
   "execution_count": 21,
   "id": "1bbd3a93-bc9b-4ee0-b820-5ccbe088a33f",
   "metadata": {},
   "outputs": [],
   "source": [
    "race.share_white = race.share_white.replace(['(X)'],0.0)\n",
    "race.share_black = race.share_black.replace(['(X)'],0.0)\n",
    "race.share_native_american = race.share_native_american.replace(['(X)'],0.0)\n",
    "race.share_asian = race.share_asian.replace(['(X)'],0.0)\n",
    "race.share_hispanic = race.share_hispanic.replace(['(X)'],0.0)"
   ]
  },
  {
   "cell_type": "code",
   "execution_count": 22,
   "id": "51c27e5e-9b6c-41e2-ab4d-4c18f816441f",
   "metadata": {},
   "outputs": [],
   "source": [
    "race.share_white = race.share_white.astype(float)\n",
    "race.share_black = race.share_black.astype(float)\n",
    "race.share_native_american = race.share_native_american.astype(float)\n",
    "race.share_asian = race.share_asian.astype(float)\n",
    "race.share_hispanic = race.share_hispanic.astype(float)"
   ]
  },
  {
   "cell_type": "code",
   "execution_count": 23,
   "id": "fe3d5373-90d9-4438-a967-e58e44c4c7a6",
   "metadata": {},
   "outputs": [
    {
     "data": {
      "text/plain": [
       "Geographic area           object\n",
       "City                      object\n",
       "share_white              float64\n",
       "share_black              float64\n",
       "share_native_american    float64\n",
       "share_asian              float64\n",
       "share_hispanic           float64\n",
       "dtype: object"
      ]
     },
     "execution_count": 23,
     "metadata": {},
     "output_type": "execute_result"
    }
   ],
   "source": [
    "race.dtypes"
   ]
  },
  {
   "cell_type": "code",
   "execution_count": 24,
   "id": "564e276c-de2e-4ed7-943b-9528ee6c70f5",
   "metadata": {},
   "outputs": [],
   "source": [
    "race = race.drop(columns=['City'])"
   ]
  },
  {
   "cell_type": "code",
   "execution_count": 25,
   "id": "baaf8086-d281-449b-a2de-fdef332f1c3c",
   "metadata": {},
   "outputs": [
    {
     "data": {
      "text/html": [
       "<div>\n",
       "<style scoped>\n",
       "    .dataframe tbody tr th:only-of-type {\n",
       "        vertical-align: middle;\n",
       "    }\n",
       "\n",
       "    .dataframe tbody tr th {\n",
       "        vertical-align: top;\n",
       "    }\n",
       "\n",
       "    .dataframe thead th {\n",
       "        text-align: right;\n",
       "    }\n",
       "</style>\n",
       "<table border=\"1\" class=\"dataframe\">\n",
       "  <thead>\n",
       "    <tr style=\"text-align: right;\">\n",
       "      <th></th>\n",
       "      <th>State</th>\n",
       "      <th>share_white</th>\n",
       "      <th>share_black</th>\n",
       "      <th>share_native_american</th>\n",
       "      <th>share_asian</th>\n",
       "      <th>share_hispanic</th>\n",
       "    </tr>\n",
       "  </thead>\n",
       "  <tbody>\n",
       "    <tr>\n",
       "      <th>0</th>\n",
       "      <td>AK</td>\n",
       "      <td>45.264225</td>\n",
       "      <td>0.562535</td>\n",
       "      <td>45.477183</td>\n",
       "      <td>1.376620</td>\n",
       "      <td>2.130986</td>\n",
       "    </tr>\n",
       "    <tr>\n",
       "      <th>1</th>\n",
       "      <td>AL</td>\n",
       "      <td>72.507266</td>\n",
       "      <td>23.322318</td>\n",
       "      <td>0.659343</td>\n",
       "      <td>0.479758</td>\n",
       "      <td>2.980104</td>\n",
       "    </tr>\n",
       "    <tr>\n",
       "      <th>2</th>\n",
       "      <td>AR</td>\n",
       "      <td>78.449538</td>\n",
       "      <td>16.296858</td>\n",
       "      <td>0.759889</td>\n",
       "      <td>0.477079</td>\n",
       "      <td>4.273013</td>\n",
       "    </tr>\n",
       "    <tr>\n",
       "      <th>3</th>\n",
       "      <td>AZ</td>\n",
       "      <td>59.929047</td>\n",
       "      <td>0.954545</td>\n",
       "      <td>28.589800</td>\n",
       "      <td>0.726608</td>\n",
       "      <td>20.144568</td>\n",
       "    </tr>\n",
       "    <tr>\n",
       "      <th>4</th>\n",
       "      <td>CA</td>\n",
       "      <td>71.535982</td>\n",
       "      <td>2.679645</td>\n",
       "      <td>1.715167</td>\n",
       "      <td>5.542613</td>\n",
       "      <td>29.513592</td>\n",
       "    </tr>\n",
       "  </tbody>\n",
       "</table>\n",
       "</div>"
      ],
      "text/plain": [
       "  State  share_white  share_black  share_native_american  share_asian  \\\n",
       "0    AK    45.264225     0.562535              45.477183     1.376620   \n",
       "1    AL    72.507266    23.322318               0.659343     0.479758   \n",
       "2    AR    78.449538    16.296858               0.759889     0.477079   \n",
       "3    AZ    59.929047     0.954545              28.589800     0.726608   \n",
       "4    CA    71.535982     2.679645               1.715167     5.542613   \n",
       "\n",
       "   share_hispanic  \n",
       "0        2.130986  \n",
       "1        2.980104  \n",
       "2        4.273013  \n",
       "3       20.144568  \n",
       "4       29.513592  "
      ]
     },
     "execution_count": 25,
     "metadata": {},
     "output_type": "execute_result"
    }
   ],
   "source": [
    "race = (race.groupby('Geographic area').apply(lambda a: a.mean()).reset_index()).rename(columns={'Geographic area' : 'State'})\n",
    "race.head()"
   ]
  },
  {
   "cell_type": "code",
   "execution_count": 26,
   "id": "a5756d8b-9ad5-4023-85f3-f77ea8f55802",
   "metadata": {},
   "outputs": [],
   "source": [
    "race.to_csv(\"data/cleaned_race.csv\", index=False)"
   ]
  },
  {
   "cell_type": "code",
   "execution_count": 27,
   "id": "0f1ec499-5d81-496f-8d39-e85d5deb599a",
   "metadata": {},
   "outputs": [
    {
     "data": {
      "text/html": [
       "<div>\n",
       "<style scoped>\n",
       "    .dataframe tbody tr th:only-of-type {\n",
       "        vertical-align: middle;\n",
       "    }\n",
       "\n",
       "    .dataframe tbody tr th {\n",
       "        vertical-align: top;\n",
       "    }\n",
       "\n",
       "    .dataframe thead th {\n",
       "        text-align: right;\n",
       "    }\n",
       "</style>\n",
       "<table border=\"1\" class=\"dataframe\">\n",
       "  <thead>\n",
       "    <tr style=\"text-align: right;\">\n",
       "      <th></th>\n",
       "      <th>Geographic Area</th>\n",
       "      <th>City</th>\n",
       "      <th>Median Income</th>\n",
       "    </tr>\n",
       "  </thead>\n",
       "  <tbody>\n",
       "    <tr>\n",
       "      <th>0</th>\n",
       "      <td>AL</td>\n",
       "      <td>Abanda CDP</td>\n",
       "      <td>11207</td>\n",
       "    </tr>\n",
       "    <tr>\n",
       "      <th>1</th>\n",
       "      <td>AL</td>\n",
       "      <td>Abbeville city</td>\n",
       "      <td>25615</td>\n",
       "    </tr>\n",
       "    <tr>\n",
       "      <th>2</th>\n",
       "      <td>AL</td>\n",
       "      <td>Adamsville city</td>\n",
       "      <td>42575</td>\n",
       "    </tr>\n",
       "    <tr>\n",
       "      <th>3</th>\n",
       "      <td>AL</td>\n",
       "      <td>Addison town</td>\n",
       "      <td>37083</td>\n",
       "    </tr>\n",
       "    <tr>\n",
       "      <th>4</th>\n",
       "      <td>AL</td>\n",
       "      <td>Akron town</td>\n",
       "      <td>21667</td>\n",
       "    </tr>\n",
       "  </tbody>\n",
       "</table>\n",
       "</div>"
      ],
      "text/plain": [
       "  Geographic Area             City Median Income\n",
       "0              AL       Abanda CDP         11207\n",
       "1              AL   Abbeville city         25615\n",
       "2              AL  Adamsville city         42575\n",
       "3              AL     Addison town         37083\n",
       "4              AL       Akron town         21667"
      ]
     },
     "execution_count": 27,
     "metadata": {},
     "output_type": "execute_result"
    }
   ],
   "source": [
    "income.head()"
   ]
  },
  {
   "cell_type": "code",
   "execution_count": 28,
   "id": "9a77fd6d-e0f9-4b1f-bd2a-ee380bb35ff5",
   "metadata": {},
   "outputs": [
    {
     "name": "stdout",
     "output_type": "stream",
     "text": [
      "<class 'pandas.core.frame.DataFrame'>\n",
      "RangeIndex: 29322 entries, 0 to 29321\n",
      "Data columns (total 3 columns):\n",
      " #   Column           Non-Null Count  Dtype \n",
      "---  ------           --------------  ----- \n",
      " 0   Geographic Area  29322 non-null  object\n",
      " 1   City             29322 non-null  object\n",
      " 2   Median Income    29271 non-null  object\n",
      "dtypes: object(3)\n",
      "memory usage: 687.4+ KB\n"
     ]
    }
   ],
   "source": [
    "income.info()"
   ]
  },
  {
   "cell_type": "code",
   "execution_count": 29,
   "id": "d4a38950-344e-49d0-8c31-439ab4894d48",
   "metadata": {},
   "outputs": [
    {
     "data": {
      "text/plain": [
       "Median Income\n",
       "(X)       1113\n",
       "-          740\n",
       "38750      136\n",
       "41250      125\n",
       "43750      115\n",
       "          ... \n",
       "77750        1\n",
       "57381        1\n",
       "93792        1\n",
       "56838        1\n",
       "135268       1\n",
       "Name: count, Length: 14592, dtype: int64"
      ]
     },
     "execution_count": 29,
     "metadata": {},
     "output_type": "execute_result"
    }
   ],
   "source": [
    "income['Median Income'].value_counts()"
   ]
  },
  {
   "cell_type": "code",
   "execution_count": 30,
   "id": "633c2dfa-8e91-4bae-a84f-dc4f54c66216",
   "metadata": {},
   "outputs": [],
   "source": [
    "income['Median Income'] = income['Median Income'].replace(['(X)','-','2,500-','250,000+'],[0.0,0.0,-2500,250000])\n",
    "income['Median Income'] = income['Median Income'].astype(float)"
   ]
  },
  {
   "cell_type": "code",
   "execution_count": 31,
   "id": "e0cee6c3-7b63-4ac6-adaa-2ea1a4dc1dd0",
   "metadata": {},
   "outputs": [
    {
     "data": {
      "text/plain": [
       "Geographic Area     object\n",
       "City                object\n",
       "Median Income      float64\n",
       "dtype: object"
      ]
     },
     "execution_count": 31,
     "metadata": {},
     "output_type": "execute_result"
    }
   ],
   "source": [
    "income.dtypes"
   ]
  },
  {
   "cell_type": "code",
   "execution_count": 32,
   "id": "e3b392da-201f-4a59-af62-9779ebfd9de0",
   "metadata": {},
   "outputs": [],
   "source": [
    "income = income.groupby('Geographic Area')['Median Income'].mean().sort_values(ascending= False).reset_index().rename(columns={'Geographic Area':'State'})"
   ]
  },
  {
   "cell_type": "code",
   "execution_count": 33,
   "id": "82c9e9c6-377f-44dc-b61b-83c5aafc1b59",
   "metadata": {},
   "outputs": [
    {
     "data": {
      "text/html": [
       "<div>\n",
       "<style scoped>\n",
       "    .dataframe tbody tr th:only-of-type {\n",
       "        vertical-align: middle;\n",
       "    }\n",
       "\n",
       "    .dataframe tbody tr th {\n",
       "        vertical-align: top;\n",
       "    }\n",
       "\n",
       "    .dataframe thead th {\n",
       "        text-align: right;\n",
       "    }\n",
       "</style>\n",
       "<table border=\"1\" class=\"dataframe\">\n",
       "  <thead>\n",
       "    <tr style=\"text-align: right;\">\n",
       "      <th></th>\n",
       "      <th>State</th>\n",
       "      <th>Median Income</th>\n",
       "    </tr>\n",
       "  </thead>\n",
       "  <tbody>\n",
       "    <tr>\n",
       "      <th>0</th>\n",
       "      <td>NJ</td>\n",
       "      <td>79416.647706</td>\n",
       "    </tr>\n",
       "    <tr>\n",
       "      <th>1</th>\n",
       "      <td>CT</td>\n",
       "      <td>74098.608392</td>\n",
       "    </tr>\n",
       "    <tr>\n",
       "      <th>2</th>\n",
       "      <td>MD</td>\n",
       "      <td>71942.693050</td>\n",
       "    </tr>\n",
       "    <tr>\n",
       "      <th>3</th>\n",
       "      <td>DC</td>\n",
       "      <td>70848.000000</td>\n",
       "    </tr>\n",
       "    <tr>\n",
       "      <th>4</th>\n",
       "      <td>MA</td>\n",
       "      <td>70307.256098</td>\n",
       "    </tr>\n",
       "  </tbody>\n",
       "</table>\n",
       "</div>"
      ],
      "text/plain": [
       "  State  Median Income\n",
       "0    NJ   79416.647706\n",
       "1    CT   74098.608392\n",
       "2    MD   71942.693050\n",
       "3    DC   70848.000000\n",
       "4    MA   70307.256098"
      ]
     },
     "execution_count": 33,
     "metadata": {},
     "output_type": "execute_result"
    }
   ],
   "source": [
    "income.head()"
   ]
  },
  {
   "cell_type": "code",
   "execution_count": 34,
   "id": "0d6fd201-3e55-4aca-9d41-7777635aa1c7",
   "metadata": {},
   "outputs": [],
   "source": [
    "income.to_csv(\"data/cleaned_income.csv\", index=False)"
   ]
  },
  {
   "cell_type": "code",
   "execution_count": 35,
   "id": "d838754b-8ba6-42c9-bb99-bf2347a11daa",
   "metadata": {},
   "outputs": [
    {
     "data": {
      "text/html": [
       "<div>\n",
       "<style scoped>\n",
       "    .dataframe tbody tr th:only-of-type {\n",
       "        vertical-align: middle;\n",
       "    }\n",
       "\n",
       "    .dataframe tbody tr th {\n",
       "        vertical-align: top;\n",
       "    }\n",
       "\n",
       "    .dataframe thead th {\n",
       "        text-align: right;\n",
       "    }\n",
       "</style>\n",
       "<table border=\"1\" class=\"dataframe\">\n",
       "  <thead>\n",
       "    <tr style=\"text-align: right;\">\n",
       "      <th></th>\n",
       "      <th>State</th>\n",
       "      <th>Mean Median Income</th>\n",
       "      <th>White</th>\n",
       "      <th>Black</th>\n",
       "      <th>Native American</th>\n",
       "      <th>Asian</th>\n",
       "      <th>Hispanic</th>\n",
       "      <th>Percent Completed HS</th>\n",
       "      <th>Poverty</th>\n",
       "    </tr>\n",
       "  </thead>\n",
       "  <tbody>\n",
       "    <tr>\n",
       "      <th>0</th>\n",
       "      <td>AK</td>\n",
       "      <td>41973.194366</td>\n",
       "      <td>45.264225</td>\n",
       "      <td>0.562535</td>\n",
       "      <td>45.477183</td>\n",
       "      <td>1.376620</td>\n",
       "      <td>2.130986</td>\n",
       "      <td>80.098028</td>\n",
       "      <td>18.678592</td>\n",
       "    </tr>\n",
       "    <tr>\n",
       "      <th>1</th>\n",
       "      <td>AL</td>\n",
       "      <td>37872.155556</td>\n",
       "      <td>72.507266</td>\n",
       "      <td>23.322318</td>\n",
       "      <td>0.659343</td>\n",
       "      <td>0.479758</td>\n",
       "      <td>2.980104</td>\n",
       "      <td>80.163419</td>\n",
       "      <td>20.611795</td>\n",
       "    </tr>\n",
       "    <tr>\n",
       "      <th>2</th>\n",
       "      <td>AR</td>\n",
       "      <td>33948.611830</td>\n",
       "      <td>78.449538</td>\n",
       "      <td>16.296858</td>\n",
       "      <td>0.759889</td>\n",
       "      <td>0.477079</td>\n",
       "      <td>4.273013</td>\n",
       "      <td>79.949538</td>\n",
       "      <td>22.963216</td>\n",
       "    </tr>\n",
       "    <tr>\n",
       "      <th>3</th>\n",
       "      <td>AZ</td>\n",
       "      <td>35046.314856</td>\n",
       "      <td>59.929047</td>\n",
       "      <td>0.954545</td>\n",
       "      <td>28.589800</td>\n",
       "      <td>0.726608</td>\n",
       "      <td>20.144568</td>\n",
       "      <td>79.218182</td>\n",
       "      <td>25.268071</td>\n",
       "    </tr>\n",
       "    <tr>\n",
       "      <th>4</th>\n",
       "      <td>CA</td>\n",
       "      <td>55694.367937</td>\n",
       "      <td>71.535982</td>\n",
       "      <td>2.679645</td>\n",
       "      <td>1.715167</td>\n",
       "      <td>5.542613</td>\n",
       "      <td>29.513592</td>\n",
       "      <td>80.824639</td>\n",
       "      <td>16.888371</td>\n",
       "    </tr>\n",
       "  </tbody>\n",
       "</table>\n",
       "</div>"
      ],
      "text/plain": [
       "  State  Mean Median Income      White      Black  Native American     Asian  \\\n",
       "0    AK        41973.194366  45.264225   0.562535        45.477183  1.376620   \n",
       "1    AL        37872.155556  72.507266  23.322318         0.659343  0.479758   \n",
       "2    AR        33948.611830  78.449538  16.296858         0.759889  0.477079   \n",
       "3    AZ        35046.314856  59.929047   0.954545        28.589800  0.726608   \n",
       "4    CA        55694.367937  71.535982   2.679645         1.715167  5.542613   \n",
       "\n",
       "    Hispanic  Percent Completed HS    Poverty  \n",
       "0   2.130986             80.098028  18.678592  \n",
       "1   2.980104             80.163419  20.611795  \n",
       "2   4.273013             79.949538  22.963216  \n",
       "3  20.144568             79.218182  25.268071  \n",
       "4  29.513592             80.824639  16.888371  "
      ]
     },
     "execution_count": 35,
     "metadata": {},
     "output_type": "execute_result"
    }
   ],
   "source": [
    "listdf = [income, race, hs, poverty]\n",
    "data = listdf[0]\n",
    "for i in range(1,len(listdf)):\n",
    "    data = pd.merge(data, listdf[i], on='State', how='outer')\n",
    "data = data.rename(columns={'poverty_rate':'Poverty','Median Income':'Mean Median Income', 'share_white':'White' , 'share_black':'Black', 'share_native_american':'Native American', 'share_asian':'Asian', 'share_hispanic':'Hispanic', 'percent_completed_hs':'Percent Completed HS'})\n",
    "data.head()"
   ]
  },
  {
   "cell_type": "code",
   "execution_count": 36,
   "id": "a9cc6e11-fd8e-4451-a9b7-0863241030be",
   "metadata": {},
   "outputs": [],
   "source": [
    "data.to_csv(\"data/cleaned_merged_data.csv\", index=False)\n"
   ]
  },
  {
   "cell_type": "markdown",
   "id": "0a908fc7-2393-4958-867f-0c5eeda1f242",
   "metadata": {},
   "source": [
    "## Plots"
   ]
  },
  {
   "cell_type": "markdown",
   "id": "4d9e6fd3-3ae2-4a5d-9d6f-a5dd631d7e98",
   "metadata": {},
   "source": [
    "### Correlation Heatmap Analysis\n",
    "\n",
    "The heatmap provides an overall view of the linear relationships between multiple socioeconomic variables.\n",
    "\n",
    "#### Key insights:\n",
    "- **High school completion** is **negatively correlated** with **poverty** — states with higher educational attainment tend to have lower poverty levels.\n",
    "- There is a **positive correlation** between **education** and **median household income**, indicating that education is a key factor in financial well-being.\n",
    "- The **Asian racial group** appears to be associated with **higher education rates** and **lower poverty**, which could reflect cultural, geographic, or policy-driven factors."
   ]
  },
  {
   "cell_type": "code",
   "execution_count": 37,
   "id": "135ebe4f-0111-4f74-80b1-538545c88d63",
   "metadata": {},
   "outputs": [
    {
     "data": {
      "image/png": "[encoded data removed]",
      "text/plain": [
       "<Figure size 1000x700 with 2 Axes>"
      ]
     },
     "metadata": {},
     "output_type": "display_data"
    }
   ],
   "source": [
    "plt.figure(figsize=(10,7))\n",
    "sns.heatmap(data.corr(numeric_only=True), annot=True, cmap='coolwarm')\n",
    "plt.title(\"Correlation Matrix of Socioeconomic Features\")\n",
    "plt.show()"
   ]
  },
  {
   "cell_type": "markdown",
   "id": "a46b0776-d8d6-4bf7-a899-0906c18f8290",
   "metadata": {},
   "source": [
    "### Education vs. Poverty\n",
    "\n",
    "This scatter plot with regression line illustrates the inverse relationship between education and poverty. States where a higher percentage of adults have completed high school generally exhibit lower poverty levels.\n",
    "\n",
    "#### Conclusion:\n",
    "- **Educational attainment** can be considered a key indicator for reducing poverty.\n",
    "- Policies focused on improving education access could have measurable economic impacts.\n",
    "\n",
    "#### **Note on Causality vs. Correlation**\n",
    "\n",
    "While our analysis shows a strong negative correlation between high school completion and poverty — and a positive correlation with income — this does **not** imply direct causality.\n",
    "\n",
    "It’s possible that:\n",
    "- Higher-income families are more likely to support educational completion.\n",
    "- Better-educated populations attract better job markets, which improves state-level income.\n",
    "- A third factor (e.g., urbanization, state policy, healthcare access) influences both education and income.\n",
    "\n",
    "Therefore, our findings should be interpreted as **correlational insights**, not definitive causal relationships. Policy decisions based on such data should consider deeper causal modeling and contextual studies.\n"
   ]
  },
  {
   "cell_type": "code",
   "execution_count": 38,
   "id": "daaba991-b190-4d34-85e6-4407e71d848d",
   "metadata": {},
   "outputs": [
    {
     "data": {
      "text/plain": [
       "Text(0.5, 1.0, 'Education vs Poverty')"
      ]
     },
     "execution_count": 38,
     "metadata": {},
     "output_type": "execute_result"
    },
    {
     "data": {
      "image/png": "[encoded data removed]",
      "text/plain": [
       "<Figure size 750x500 with 1 Axes>"
      ]
     },
     "metadata": {},
     "output_type": "display_data"
    }
   ],
   "source": [
    "sns.lmplot(data=data, x='Percent Completed HS', y='Poverty', height=5, aspect=1.5)\n",
    "plt.title('Education vs Poverty')"
   ]
  },
  {
   "cell_type": "markdown",
   "id": "51a867a1-2718-4681-bd9e-3a40da00d903",
   "metadata": {},
   "source": [
    "### Education vs. Median Income\n",
    "\n",
    "The plot shows that as the high school completion rate increases, so does the median household income.\n",
    "\n",
    "#### Key takeaway:\n",
    "- **More educated populations tend to earn more**, highlighting the economic value of education at the state level.\n"
   ]
  },
  {
   "cell_type": "code",
   "execution_count": 39,
   "id": "2a4eeaf5-35d1-4b1e-9913-859dacd13474",
   "metadata": {},
   "outputs": [
    {
     "data": {
      "text/plain": [
       "Text(0.5, 1.0, 'Education vs Income')"
      ]
     },
     "execution_count": 39,
     "metadata": {},
     "output_type": "execute_result"
    },
    {
     "data": {
      "image/png": "[encoded data removed]",
      "text/plain": [
       "<Figure size 750x500 with 1 Axes>"
      ]
     },
     "metadata": {},
     "output_type": "display_data"
    }
   ],
   "source": [
    "sns.lmplot(data=data, y='Mean Median Income', x='Percent Completed HS', height=5, aspect=1.5)\n",
    "plt.title('Education vs Income')"
   ]
  },
  {
   "cell_type": "markdown",
   "id": "fa654b2c-f248-4609-bf0d-934e825c58ce",
   "metadata": {},
   "source": [
    "### Poverty Rates by Dominant Racial Group\n",
    "\n",
    "This boxplot categorizes states by their dominant racial group and compares poverty levels.\n",
    "\n",
    "#### Findings:\n",
    "- States where **Asian** populations are dominant tend to show **lower poverty**.\n",
    "- States with **Black** or **Hispanic** majority populations often have **higher poverty rates**, suggesting systemic disparities.\n",
    "- The variation within each racial group is also notable, indicating that racial composition is an influential — but not exclusive — factor in poverty levels.\n"
   ]
  },
  {
   "cell_type": "code",
   "execution_count": 40,
   "id": "2a87c67c-aa1f-485a-bab4-15363f174e2a",
   "metadata": {},
   "outputs": [
    {
     "data": {
      "text/plain": [
       "Text(0.5, 1.0, 'Poverty by Dominant Race')"
      ]
     },
     "execution_count": 40,
     "metadata": {},
     "output_type": "execute_result"
    },
    {
     "data": {
      "image/png": "[encoded data removed]",
      "text/plain": [
       "<Figure size 1000x600 with 1 Axes>"
      ]
     },
     "metadata": {},
     "output_type": "display_data"
    }
   ],
   "source": [
    "data[\"Dominant Race\"] = data[[\"White\", \"Black\", \"Asian\", \"Hispanic\", 'Native American']].idxmax(axis=1)\n",
    "plt.figure(figsize=(10,6))\n",
    "sns.boxplot(data=data, x=\"Dominant Race\", y=\"Poverty\")\n",
    "plt.title(\"Poverty by Dominant Race\")"
   ]
  },
  {
   "cell_type": "markdown",
   "id": "b91b81d7-751d-4afb-a563-2a0a1311c914",
   "metadata": {},
   "source": [
    "### Top States by Poverty Rate\n",
    "\n",
    "The bar chart ranks U.S. states by poverty rate, from highest to lowest.\n",
    "\n",
    "#### Implications:\n",
    "- This helps identify which states may require targeted policy interventions.\n",
    "- States with persistently high poverty may share underlying structural challenges (e.g., access to education, racial disparities, employment opportunities).\n"
   ]
  },
  {
   "cell_type": "code",
   "execution_count": 41,
   "id": "84abfae4-fb54-456c-bcbc-917d7c70e601",
   "metadata": {},
   "outputs": [
    {
     "data": {
      "image/png": "[encoded data removed]",
      "text/plain": [
       "<Figure size 1000x700 with 1 Axes>"
      ]
     },
     "metadata": {},
     "output_type": "display_data"
    }
   ],
   "source": [
    "data = data.sort_values(by=\"Poverty\", ascending=False)\n",
    "plt.figure(figsize=(10,7))\n",
    "sns.barplot(data=data, x='State', y='Poverty')\n",
    "sns.color_palette('pastel')\n",
    "plt.xticks(rotation = 50)\n",
    "plt.title('Ranking States Based on Poverty')\n",
    "plt.show()"
   ]
  },
  {
   "cell_type": "markdown",
   "id": "a498a435-f957-471b-b5bc-55ecfbc21f38",
   "metadata": {},
   "source": [
    "### Which Contributes More to Poverty: Education or Race?\n",
    "\n",
    "To understand the driving factors behind poverty, we examined the correlation between poverty rates and several key indicators: high school completion and the percentage of racial groups in each state.\n",
    "\n",
    "#### Key Findings:\n",
    "- **High school completion** has the strongest **negative correlation** with poverty. This means that states with better educational outcomes tend to have significantly lower poverty levels.\n",
    "- Among racial factors, **Asian** population share shows a **negative correlation** with poverty, while **Black** and **Hispanic** shares show a **positive correlation**, suggesting systemic economic disparities.\n",
    "- Overall, **education** appears to be a more powerful predictor of poverty than racial composition, based on linear correlation metrics.\n",
    "\n",
    "This insight highlights the crucial role of education in poverty reduction and suggests that educational policy could be one of the most effective levers for social equity."
   ]
  },
  {
   "cell_type": "code",
   "execution_count": 42,
   "id": "044435a2-3b87-4135-a541-cf5b05758840",
   "metadata": {},
   "outputs": [
    {
     "data": {
      "image/png": "[encoded data removed]",
      "text/plain": [
       "<Figure size 600x400 with 1 Axes>"
      ]
     },
     "metadata": {},
     "output_type": "display_data"
    }
   ],
   "source": [
    "cols = ['Poverty', 'Percent Completed HS', 'White', 'Black', 'Asian', 'Hispanic']\n",
    "corr_matrix = data[cols].corr(numeric_only=True)\n",
    "\n",
    "plt.figure(figsize=(6,4))\n",
    "sns.barplot(\n",
    "    x=corr_matrix['Poverty'].drop('Poverty').sort_values(),\n",
    "    y=corr_matrix['Poverty'].drop('Poverty').sort_values().index\n",
    ")\n",
    "plt.title(\"Correlation with Poverty Rate\")\n",
    "plt.xlabel(\"Correlation\")\n",
    "plt.show()"
   ]
  },
  {
   "cell_type": "markdown",
   "id": "9efc5a74-7187-48c2-ad6a-8246e39fc5c2",
   "metadata": {},
   "source": [
    "### Composite Socioeconomic Score and State Ranking\n",
    "\n",
    "To compare the overall socioeconomic status of each U.S. state, we constructed a **composite score** based on:\n",
    "- High school completion rate (weighted 40%)\n",
    "- Median household income (weighted 40%)\n",
    "- Poverty rate (weighted -20%)\n",
    "\n",
    "The higher the score, the better the state's overall socioeconomic condition.\n",
    "\n",
    "#### Insights:\n",
    "- States with high education and income levels — and low poverty — score highest.\n",
    "- The top-ranked states can serve as models for effective education and economic policies.\n",
    "- This score helps summarize multiple variables into a single interpretable metric for policymakers and analysts.\n",
    "\n",
    "This approach offers a holistic view of regional disparities and can support data-driven decision-making. However, it is crucial to interpret these rankings with caution. See the 'Limitations' section for more context."
   ]
  },
  {
   "cell_type": "code",
   "execution_count": 43,
   "id": "fdb1e979-a7be-446a-9b83-b14a51df73e2",
   "metadata": {},
   "outputs": [
    {
     "data": {
      "image/png": "[encoded data removed]",
      "text/plain": [
       "<Figure size 640x480 with 1 Axes>"
      ]
     },
     "metadata": {},
     "output_type": "display_data"
    }
   ],
   "source": [
    "data['score'] = data['Percent Completed HS']*0.4 + data['Mean Median Income']*0.4 - data['Poverty']*0.2\n",
    "top_states = data.sort_values(by='score', ascending=False)[['State', 'score']]\n",
    "sns.barplot(data=top_states.head(10), x='score', y='State')\n",
    "plt.title(\"Top 10 States by Socioeconomic Score\")\n",
    "plt.show()"
   ]
  },
  {
   "cell_type": "markdown",
   "id": "95b6a1d6-554c-400a-a82c-1cd9c23f2e5d",
   "metadata": {},
   "source": [
    "## Conclusion\n",
    "\n",
    "This project illustrates how educational attainment, income levels, and racial demographics intersect with poverty at the state level. While education appears to be the strongest predictor of poverty reduction, structural disparities across racial groups remain evident. These findings reinforce the importance of policies that promote educational access and address systemic inequality.\n"
   ]
  },
  {
   "cell_type": "markdown",
   "id": "6af3b15d-448c-44ab-a835-d611307c4c46",
   "metadata": {},
   "source": [
    "## Limitations and Ethical Considerations\n",
    "\n",
    "While this analysis provides valuable insights, it is important to acknowledge its methodological and ethical limitations:\n",
    "\n",
    "### 1. Correlation is not causation\n",
    "Our findings rely on correlation-based visualizations and basic statistical relationships. These do **not** imply causation. For example, the fact that higher high school completion rates are associated with lower poverty levels does not prove that education alone causes poverty reduction — or vice versa. Confounding variables like policy, healthcare, housing, and family background likely play major roles.\n",
    "\n",
    "### 2. Temporal limitations\n",
    "The dataset is limited to the year 2015. Social and economic patterns may have shifted significantly since then, especially due to major events like the COVID-19 pandemic and economic fluctuations.\n",
    "\n",
    "### 3. Ethical sensitivity regarding race\n",
    "This project uses race-related data **not to make value judgments or assumptions about racial groups**, but rather to **highlight the systemic inequalities** that may exist across demographic lines. Any observed disparity in education, income, or poverty is **a reflection of structural conditions**, not inherent group characteristics. The goal is to promote equity, not stereotype.\n",
    "\n",
    "### 4. Small sample size\n",
    "The analysis is conducted at the state level (N = 50), which limits statistical power and generalizability. Deeper insights could be gained from city-level or individual-level data.\n",
    "\n",
    "These limitations should be considered when drawing conclusions based on this analysis. Further research, including causal modeling and multivariate regression, would help strengthen the findings.\n"
   ]
  },
  {
   "cell_type": "markdown",
   "id": "a1cdbc5a-8d81-4ff1-b98e-e3a2b0014e49",
   "metadata": {},
   "source": [
    "## Abstract\n",
    "\n",
    "This project explores the socioeconomic landscape of U.S. states in 2015 by analyzing how education, race, and income interact to shape poverty. \n",
    "\n",
    "#### Key findings include:\n",
    "- A strong negative correlation between high school completion rates and poverty\n",
    "- A positive relationship between education and median household income\n",
    "- Disparities in poverty levels across racial groups, with Asian-majority states exhibiting lower poverty rates\n",
    "\n",
    "The dataset used combines educational attainment, income levels, racial composition, and poverty statistics for all 50 states. We utilize Python, Pandas, and Seaborn for data cleaning, visualization, and statistical analysis.\n",
    "\n",
    "Future extensions may include expanding the dataset to recent years, incorporating geospatial analysis, or applying machine learning models to predict poverty based on demographic variables.\n"
   ]
  }
 ],
 "metadata": {
  "kernelspec": {
   "display_name": "Python (venv)",
   "language": "python",
   "name": "venv"
  },
  "language_info": {
   "codemirror_mode": {
    "name": "ipython",
    "version": 3
   },
   "file_extension": ".py",
   "mimetype": "text/x-python",
   "name": "python",
   "nbconvert_exporter": "python",
   "pygments_lexer": "ipython3",
   "version": "3.12.3"
  }
 },
 "nbformat": 4,
 "nbformat_minor": 5
}
